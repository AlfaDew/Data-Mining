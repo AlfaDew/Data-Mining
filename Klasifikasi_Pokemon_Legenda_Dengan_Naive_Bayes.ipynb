{
  "nbformat": 4,
  "nbformat_minor": 0,
  "metadata": {
    "colab": {
      "name": "Klasifikasi Pokemon Legenda Dengan Naive Bayes.ipynb",
      "provenance": []
    },
    "kernelspec": {
      "name": "python3",
      "display_name": "Python 3"
    },
    "language_info": {
      "name": "python"
    }
  },
  "cells": [
    {
      "cell_type": "code",
      "metadata": {
        "id": "MxUxZup_Y0ED"
      },
      "source": [
        "import numpy as np\n",
        "import matplotlib.pyplot as plt\n",
        "import pandas as pd"
      ],
      "execution_count": 18,
      "outputs": []
    },
    {
      "cell_type": "code",
      "metadata": {
        "id": "l-830hm5Z8NA"
      },
      "source": [
        "dataset = pd.read_csv(\"Pokemon.csv\")\n",
        "x = dataset.iloc[:, [6,7]].values\n",
        "y = dataset.iloc[:, -1].values"
      ],
      "execution_count": 21,
      "outputs": []
    },
    {
      "cell_type": "code",
      "metadata": {
        "colab": {
          "base_uri": "https://localhost:8080/"
        },
        "id": "8fGqe6nIaV9c",
        "outputId": "7c64a60d-d4fb-4573-bf7f-1734eb5ffa0a"
      },
      "source": [
        "print(x)"
      ],
      "execution_count": 22,
      "outputs": [
        {
          "output_type": "stream",
          "text": [
            "[[ 49  49]\n",
            " [ 62  63]\n",
            " [ 82  83]\n",
            " ...\n",
            " [110  60]\n",
            " [160  60]\n",
            " [110 120]]\n"
          ],
          "name": "stdout"
        }
      ]
    },
    {
      "cell_type": "code",
      "metadata": {
        "colab": {
          "base_uri": "https://localhost:8080/"
        },
        "id": "Dt8U5o39a9zt",
        "outputId": "6894707d-9359-4641-8316-a759d6ba83f3"
      },
      "source": [
        "print(y)"
      ],
      "execution_count": 23,
      "outputs": [
        {
          "output_type": "stream",
          "text": [
            "[False False False False False False False False False False False False\n",
            " False False False False False False False False False False False False\n",
            " False False False False False False False False False False False False\n",
            " False False False False False False False False False False False False\n",
            " False False False False False False False False False False False False\n",
            " False False False False False False False False False False False False\n",
            " False False False False False False False False False False False False\n",
            " False False False False False False False False False False False False\n",
            " False False False False False False False False False False False False\n",
            " False False False False False False False False False False False False\n",
            " False False False False False False False False False False False False\n",
            " False False False False False False False False False False False False\n",
            " False False False False False False False False False False False False\n",
            "  True  True  True False False False  True  True  True False False False\n",
            " False False False False False False False False False False False False\n",
            " False False False False False False False False False False False False\n",
            " False False False False False False False False False False False False\n",
            " False False False False False False False False False False False False\n",
            " False False False False False False False False False False False False\n",
            " False False False False False False False False False False False False\n",
            " False False False False False False False False False False False False\n",
            " False False False False False False False False False False  True  True\n",
            "  True False False False False  True  True False False False False False\n",
            " False False False False False False False False False False False False\n",
            " False False False False False False False False False False False False\n",
            " False False False False False False False False False False False False\n",
            " False False False False False False False False False False False False\n",
            " False False False False False False False False False False False False\n",
            " False False False False False False False False False False False False\n",
            " False False False False False False False False False False False False\n",
            " False False False False False False False False False False False False\n",
            " False False False False False False False False False False False False\n",
            " False False False False False False False False False False False False\n",
            " False False False False False False False False False False False False\n",
            " False False False False False False  True  True  True  True  True  True\n",
            "  True  True  True  True  True  True  True  True  True  True  True  True\n",
            " False False False False False False False False False False False False\n",
            " False False False False False False False False False False False False\n",
            " False False False False False False False False False False False False\n",
            " False False False False False False False False False False False False\n",
            " False False False False False False False False False False False False\n",
            " False False False False False False False False False False False False\n",
            " False False False False False False False False False False False False\n",
            " False False False False False False False False False False False False\n",
            " False False False False False False False False False  True  True  True\n",
            "  True  True  True  True  True  True False False False  True  True  True\n",
            "  True  True False False False False False False False False False False\n",
            " False False False False False False False False False False False False\n",
            " False False False False False False False False False False False False\n",
            " False False False False False False False False False False False False\n",
            " False False False False False False False False False False False False\n",
            " False False False False False False False False False False False False\n",
            " False False False False False False False False False False False False\n",
            " False False False False False False False False False False False False\n",
            " False False False False False False False False False False False False\n",
            " False False False False False False False False False False False False\n",
            " False False False False False False False False False False False False\n",
            " False False False False False False False False False False False False\n",
            " False False False  True  True  True  True  True  True  True  True  True\n",
            "  True  True  True  True  True False False False False False False False\n",
            " False False False False False False False False False False False False\n",
            " False False False False False False False False False False False False\n",
            " False False False False False False False False False False False False\n",
            " False False False False False False False False False False False False\n",
            " False False False False False False False False False False False False\n",
            " False False False False False False False False False False False False\n",
            "  True  True  True  True  True  True  True  True]\n"
          ],
          "name": "stdout"
        }
      ]
    },
    {
      "cell_type": "code",
      "metadata": {
        "id": "0mOV4iAbbBlz"
      },
      "source": [
        "from sklearn.model_selection import train_test_split\n",
        "x_train, x_test, y_train, y_test = train_test_split(x, y, test_size=0.25, random_state=0)"
      ],
      "execution_count": 24,
      "outputs": []
    },
    {
      "cell_type": "code",
      "metadata": {
        "colab": {
          "base_uri": "https://localhost:8080/"
        },
        "id": "Db7it1RtbYrd",
        "outputId": "9c18d2fa-bc55-43af-c97b-5f7ce612a004"
      },
      "source": [
        "print(x_train)"
      ],
      "execution_count": 25,
      "outputs": [
        {
          "output_type": "stream",
          "text": [
            "[[ 75 150]\n",
            " [ 30  30]\n",
            " [ 75  95]\n",
            " ...\n",
            " [ 50  62]\n",
            " [123  65]\n",
            " [124  80]]\n"
          ],
          "name": "stdout"
        }
      ]
    },
    {
      "cell_type": "code",
      "metadata": {
        "colab": {
          "base_uri": "https://localhost:8080/"
        },
        "id": "dul6wv33bczc",
        "outputId": "966e76fa-1591-4325-b762-db7fd45fb27f"
      },
      "source": [
        "print(x_test)"
      ],
      "execution_count": 26,
      "outputs": [
        {
          "output_type": "stream",
          "text": [
            "[[ 55  30]\n",
            " [112 118]\n",
            " [ 25  25]\n",
            " [ 45  48]\n",
            " [ 85  40]\n",
            " [ 78  52]\n",
            " [ 40  40]\n",
            " [100  89]\n",
            " [ 70 130]\n",
            " [125  75]\n",
            " [ 20  55]\n",
            " [ 55  85]\n",
            " [ 66  70]\n",
            " [100 121]\n",
            " [ 90  65]\n",
            " [ 55  25]\n",
            " [ 60  45]\n",
            " [ 75 105]\n",
            " [110  90]\n",
            " [125  52]\n",
            " [ 40  60]\n",
            " [ 80 110]\n",
            " [120  90]\n",
            " [110 130]\n",
            " [100  70]\n",
            " [ 65  35]\n",
            " [ 85 100]\n",
            " [ 90  50]\n",
            " [ 86  88]\n",
            " [117  80]\n",
            " [ 76  86]\n",
            " [ 60  86]\n",
            " [ 65  65]\n",
            " [ 80  70]\n",
            " [134 110]\n",
            " [ 90  55]\n",
            " [120  70]\n",
            " [ 95 125]\n",
            " [ 85  70]\n",
            " [ 30  35]\n",
            " [ 55  50]\n",
            " [160 110]\n",
            " [ 70  80]\n",
            " [ 58  80]\n",
            " [ 30  35]\n",
            " [ 64  85]\n",
            " [ 80  44]\n",
            " [ 85  51]\n",
            " [ 45 160]\n",
            " [ 83  50]\n",
            " [ 75  75]\n",
            " [ 53  48]\n",
            " [ 63  37]\n",
            " [ 75  35]\n",
            " [ 69  85]\n",
            " [ 55  85]\n",
            " [150 110]\n",
            " [100  80]\n",
            " [ 66  70]\n",
            " [ 95 122]\n",
            " [120  95]\n",
            " [104  78]\n",
            " [ 98  63]\n",
            " [ 55  99]\n",
            " [ 65  60]\n",
            " [ 10 230]\n",
            " [ 30  30]\n",
            " [ 85  80]\n",
            " [ 10  10]\n",
            " [130  75]\n",
            " [125  40]\n",
            " [ 90  72]\n",
            " [ 62  63]\n",
            " [ 90 140]\n",
            " [ 72  78]\n",
            " [ 70  65]\n",
            " [ 65 105]\n",
            " [108 133]\n",
            " [ 58  44]\n",
            " [110  60]\n",
            " [120 120]\n",
            " [ 60  60]\n",
            " [ 68  83]\n",
            " [100  80]\n",
            " [115  65]\n",
            " [ 65 107]\n",
            " [ 85  70]\n",
            " [ 68  72]\n",
            " [ 85  40]\n",
            " [ 84 105]\n",
            " [ 48  54]\n",
            " [ 55 115]\n",
            " [140 230]\n",
            " [ 70 115]\n",
            " [ 92 108]\n",
            " [145 150]\n",
            " [100  63]\n",
            " [129  90]\n",
            " [100  62]\n",
            " [ 80  90]\n",
            " [ 90 110]\n",
            " [135  80]\n",
            " [ 78  73]\n",
            " [ 60  75]\n",
            " [ 90  40]\n",
            " [ 60  60]\n",
            " [135 105]\n",
            " [165  60]\n",
            " [130  95]\n",
            " [ 35  40]\n",
            " [170 100]\n",
            " [ 80  85]\n",
            " [ 97  66]\n",
            " [ 59  50]\n",
            " [ 85  70]\n",
            " [115  80]\n",
            " [104 105]\n",
            " [102  77]\n",
            " [100 115]\n",
            " [ 85  85]\n",
            " [ 76  84]\n",
            " [ 46  34]\n",
            " [ 63  80]\n",
            " [ 90  80]\n",
            " [ 20  15]\n",
            " [136  94]\n",
            " [105  75]\n",
            " [ 95  60]\n",
            " [ 60  70]\n",
            " [ 50 100]\n",
            " [ 53  48]\n",
            " [ 29  45]\n",
            " [ 82  83]\n",
            " [131  95]\n",
            " [131  95]\n",
            " [ 60 125]\n",
            " [ 95 105]\n",
            " [110  95]\n",
            " [ 65  68]\n",
            " [ 56  77]\n",
            " [ 55  30]\n",
            " [ 60  70]\n",
            " [ 56  40]\n",
            " [115  60]\n",
            " [115  85]\n",
            " [100 120]\n",
            " [ 95  95]\n",
            " [ 50  65]\n",
            " [ 65  70]\n",
            " [ 89  77]\n",
            " [ 87  63]\n",
            " [ 55  75]\n",
            " [ 57  40]\n",
            " [ 68  64]\n",
            " [ 50  55]\n",
            " [ 40  40]\n",
            " [ 45  40]\n",
            " [130  80]\n",
            " [ 84  70]\n",
            " [ 55  45]\n",
            " [ 65  64]\n",
            " [ 90  50]\n",
            " [110  80]\n",
            " [ 55  52]\n",
            " [ 95  80]\n",
            " [ 75  60]\n",
            " [ 70  65]\n",
            " [ 69  95]\n",
            " [ 95  67]\n",
            " [ 95  62]\n",
            " [ 47  52]\n",
            " [ 73  83]\n",
            " [160  80]\n",
            " [100  70]\n",
            " [ 90 120]\n",
            " [103 120]\n",
            " [ 90  85]\n",
            " [ 80  55]\n",
            " [ 60  30]\n",
            " [ 95  50]\n",
            " [ 40  55]\n",
            " [ 60  40]\n",
            " [ 70  35]\n",
            " [ 65 100]\n",
            " [ 55  45]\n",
            " [180 160]\n",
            " [ 75  60]\n",
            " [150  50]\n",
            " [121 119]\n",
            " [ 59  85]\n",
            " [ 80  80]\n",
            " [ 40  60]\n",
            " [ 90  90]\n",
            " [ 55  70]\n",
            " [ 50 145]\n",
            " [ 60  70]\n",
            " [165  95]\n",
            " [ 60  60]\n",
            " [ 25  50]\n",
            " [ 90  45]]\n"
          ],
          "name": "stdout"
        }
      ]
    },
    {
      "cell_type": "code",
      "metadata": {
        "colab": {
          "base_uri": "https://localhost:8080/"
        },
        "id": "DeqN780JbgQc",
        "outputId": "6257d396-3c25-4bd1-ad5a-a179d8e0767f"
      },
      "source": [
        "print(y_train)"
      ],
      "execution_count": 33,
      "outputs": [
        {
          "output_type": "stream",
          "text": [
            "[ True False False False False False False  True False False False False\n",
            "  True False False False False False False False False False False False\n",
            " False False False False  True False False False False False False  True\n",
            " False False False False False False False False False False  True False\n",
            " False False False False False False False False False False False False\n",
            " False False False False  True False False False False False False False\n",
            " False False False False False False False False False  True False False\n",
            " False False False False False False False  True False False False False\n",
            " False False False False False False False False False False False False\n",
            " False False False False False False False False False False False False\n",
            " False False False False False False False False False False False False\n",
            " False False False False False False False False False False False False\n",
            " False False False False False False False False False False False False\n",
            " False False False False False False False False False False False False\n",
            " False False False False False False False False False False False False\n",
            " False False False False False  True False False False False False False\n",
            " False False False False  True  True False False False False False False\n",
            " False False False False False False False False False False False False\n",
            " False  True False False False False False False False False False False\n",
            " False  True False False False False False False False False False False\n",
            "  True False  True False False False False False False False False False\n",
            " False False False False False False False  True False False False False\n",
            " False False False False False False False False False  True False False\n",
            "  True False False False  True False False False False False False False\n",
            " False False False False False False False False False False  True False\n",
            " False False False False  True False False False False False False False\n",
            " False  True False False False False False False False False False  True\n",
            " False False False False  True False False False False False False False\n",
            " False False False False False False False  True False False False False\n",
            " False False False False False False False False False False False False\n",
            " False False False False False False False False False False False False\n",
            " False False False  True False False False False False False False False\n",
            " False  True False  True False False False False False False False  True\n",
            "  True False False False  True False  True False False False False False\n",
            " False False False False False False False False False False False False\n",
            "  True False False False False False False False False False False False\n",
            " False False False False False False False False False False False False\n",
            " False False False False False False False False False False False  True\n",
            " False False False False False False False False False False False  True\n",
            " False False False False False False False False False False False False\n",
            " False False False False False False False False False False False False\n",
            " False False False False False False False False False False False False\n",
            " False False False False False False False False False False False False\n",
            " False False False False False False False False False False False False\n",
            " False False False  True False False False False False False False False\n",
            " False False False False False  True False False False False False False\n",
            " False False False False False  True  True False False False False  True\n",
            " False False False False False False  True  True False False False  True\n",
            " False False False False  True False  True False False False False False\n",
            " False False False False False False  True False False False False False]\n"
          ],
          "name": "stdout"
        }
      ]
    },
    {
      "cell_type": "code",
      "metadata": {
        "colab": {
          "base_uri": "https://localhost:8080/"
        },
        "id": "VqJYRTosbkQf",
        "outputId": "ea2f306b-4a7e-430a-c506-11219c403135"
      },
      "source": [
        "print(y_test)"
      ],
      "execution_count": 32,
      "outputs": [
        {
          "output_type": "stream",
          "text": [
            "[False False False False False False False False False False False False\n",
            " False  True False False False False  True False False False False False\n",
            " False False  True False False False False False False False False False\n",
            " False False False False False  True False False False False False False\n",
            " False False False False False False False False False False False False\n",
            " False False False False False False False False False False False  True\n",
            " False False False False False False False  True False False False  True\n",
            " False False False False False False False False False False False False\n",
            " False  True False False False False False False False False False False\n",
            " False False  True False False False False False False False False False\n",
            " False False False  True False False False False False  True False False\n",
            " False  True  True False False False False False False False False False\n",
            "  True  True False False False False False False False False False False\n",
            " False False False False False False False False False False False False\n",
            " False False False False False False False False  True False False False\n",
            " False False False False False  True False False False False False False\n",
            "  True False False False False False False False]\n"
          ],
          "name": "stdout"
        }
      ]
    },
    {
      "cell_type": "code",
      "metadata": {
        "id": "omI4aUtwl8uL"
      },
      "source": [
        "from sklearn.preprocessing import StandardScaler\n",
        "sc = StandardScaler()\n",
        "x_train = sc.fit_transform(x_train)\n",
        "x_test = sc.transform(x_test)"
      ],
      "execution_count": 30,
      "outputs": []
    },
    {
      "cell_type": "code",
      "metadata": {
        "colab": {
          "base_uri": "https://localhost:8080/"
        },
        "id": "2WVwlixBmEYW",
        "outputId": "d2c2e08d-1765-49ef-8e3e-2b752274c2de"
      },
      "source": [
        "print(x_train)"
      ],
      "execution_count": 34,
      "outputs": [
        {
          "output_type": "stream",
          "text": [
            "[[-0.09113646  2.49677153]\n",
            " [-1.47432055 -1.39607046]\n",
            " [-0.09113646  0.71255229]\n",
            " ...\n",
            " [-0.85957207 -0.35797926]\n",
            " [ 1.3842599  -0.26065821]\n",
            " [ 1.41499732  0.22594704]]\n"
          ],
          "name": "stdout"
        }
      ]
    },
    {
      "cell_type": "code",
      "metadata": {
        "colab": {
          "base_uri": "https://localhost:8080/"
        },
        "id": "ggx5MWuRmIS6",
        "outputId": "43a41116-ae51-4e9d-a498-8a0ab2f4c45e"
      },
      "source": [
        "print(x_test)"
      ],
      "execution_count": 35,
      "outputs": [
        {
          "output_type": "stream",
          "text": [
            "[[-7.05884947e-01 -1.39607046e+00]\n",
            " [ 1.04614823e+00  1.45868033e+00]\n",
            " [-1.62800767e+00 -1.55827221e+00]\n",
            " [-1.01325919e+00 -8.12144161e-01]\n",
            " [ 2.16237779e-01 -1.07166696e+00]\n",
            " [ 1.07580985e-03 -6.82382761e-01]\n",
            " [-1.16694631e+00 -1.07166696e+00]\n",
            " [ 6.77299143e-01  5.17910187e-01]\n",
            " [-2.44823584e-01  1.84796453e+00]\n",
            " [ 1.44573475e+00  6.37452876e-02]\n",
            " [-1.78169480e+00 -5.85061711e-01]\n",
            " [-7.05884947e-01  3.88148787e-01]\n",
            " [-3.67773281e-01 -9.84564620e-02]\n",
            " [ 6.77299143e-01  1.55600138e+00]\n",
            " [ 3.69924901e-01 -2.60658212e-01]\n",
            " [-7.05884947e-01 -1.55827221e+00]\n",
            " [-5.52197826e-01 -9.09465210e-01]\n",
            " [-9.11364628e-02  1.03695579e+00]\n",
            " [ 9.84673385e-01  5.50350537e-01]\n",
            " [ 1.44573475e+00 -6.82382761e-01]\n",
            " [-1.16694631e+00 -4.22859961e-01]\n",
            " [ 6.25506583e-02  1.19915754e+00]\n",
            " [ 1.29204763e+00  5.50350537e-01]\n",
            " [ 9.84673385e-01  1.84796453e+00]\n",
            " [ 6.77299143e-01 -9.84564620e-02]\n",
            " [-3.98510705e-01 -1.23386871e+00]\n",
            " [ 2.16237779e-01  8.74754036e-01]\n",
            " [ 3.69924901e-01 -7.47263461e-01]\n",
            " [ 2.46975204e-01  4.85469837e-01]\n",
            " [ 1.19983535e+00  2.25947037e-01]\n",
            " [-6.03990386e-02  4.20589137e-01]\n",
            " [-5.52197826e-01  4.20589137e-01]\n",
            " [-3.98510705e-01 -2.60658212e-01]\n",
            " [ 6.25506583e-02 -9.84564620e-02]\n",
            " [ 1.72237157e+00  1.19915754e+00]\n",
            " [ 3.69924901e-01 -5.85061711e-01]\n",
            " [ 1.29204763e+00 -9.84564620e-02]\n",
            " [ 5.23612022e-01  1.68576278e+00]\n",
            " [ 2.16237779e-01 -9.84564620e-02]\n",
            " [-1.47432055e+00 -1.23386871e+00]\n",
            " [-7.05884947e-01 -7.47263461e-01]\n",
            " [ 2.52154460e+00  1.19915754e+00]\n",
            " [-2.44823584e-01  2.25947037e-01]\n",
            " [-6.13672675e-01  2.25947037e-01]\n",
            " [-1.47432055e+00 -1.23386871e+00]\n",
            " [-4.29248129e-01  3.88148787e-01]\n",
            " [ 6.25506583e-02 -9.41905560e-01]\n",
            " [ 2.16237779e-01 -7.14823111e-01]\n",
            " [-1.01325919e+00  2.82117503e+00]\n",
            " [ 1.54762931e-01 -7.47263461e-01]\n",
            " [-9.11364628e-02  6.37452876e-02]\n",
            " [-7.67359796e-01 -8.12144161e-01]\n",
            " [-4.59985554e-01 -1.16898801e+00]\n",
            " [-9.11364628e-02 -1.23386871e+00]\n",
            " [-2.75561008e-01  3.88148787e-01]\n",
            " [-7.05884947e-01  3.88148787e-01]\n",
            " [ 2.21417035e+00  1.19915754e+00]\n",
            " [ 6.77299143e-01  2.25947037e-01]\n",
            " [-3.67773281e-01 -9.84564620e-02]\n",
            " [ 5.23612022e-01  1.58844173e+00]\n",
            " [ 1.29204763e+00  7.12552286e-01]\n",
            " [ 8.00248840e-01  1.61066337e-01]\n",
            " [ 6.15824294e-01 -3.25538912e-01]\n",
            " [-7.05884947e-01  8.42313686e-01]\n",
            " [-3.98510705e-01 -4.22859961e-01]\n",
            " [-2.08906904e+00  5.09199953e+00]\n",
            " [-1.47432055e+00 -1.39607046e+00]\n",
            " [ 2.16237779e-01  2.25947037e-01]\n",
            " [-2.08906904e+00 -2.04487746e+00]\n",
            " [ 1.59942187e+00  6.37452876e-02]\n",
            " [ 1.44573475e+00 -1.07166696e+00]\n",
            " [ 3.69924901e-01 -3.35757622e-02]\n",
            " [-4.90722978e-01 -3.25538912e-01]\n",
            " [ 3.69924901e-01  2.17236803e+00]\n",
            " [-1.83348736e-01  1.61066337e-01]\n",
            " [-2.44823584e-01 -2.60658212e-01]\n",
            " [-3.98510705e-01  1.03695579e+00]\n",
            " [ 9.23198537e-01  1.94528558e+00]\n",
            " [-6.13672675e-01 -9.41905560e-01]\n",
            " [ 9.84673385e-01 -4.22859961e-01]\n",
            " [ 1.29204763e+00  1.52356103e+00]\n",
            " [-5.52197826e-01 -4.22859961e-01]\n",
            " [-3.06298432e-01  3.23268087e-01]\n",
            " [ 6.77299143e-01  2.25947037e-01]\n",
            " [ 1.13836051e+00 -2.60658212e-01]\n",
            " [-3.98510705e-01  1.10183649e+00]\n",
            " [ 2.16237779e-01 -9.84564620e-02]\n",
            " [-3.06298432e-01 -3.35757622e-02]\n",
            " [ 2.16237779e-01 -1.07166696e+00]\n",
            " [ 1.85500355e-01  1.03695579e+00]\n",
            " [-9.21046917e-01 -6.17502061e-01]\n",
            " [-7.05884947e-01  1.36135928e+00]\n",
            " [ 1.90679611e+00  5.09199953e+00]\n",
            " [-2.44823584e-01  1.36135928e+00]\n",
            " [ 4.31399749e-01  1.13427684e+00]\n",
            " [ 2.06048323e+00  2.49677153e+00]\n",
            " [ 6.77299143e-01 -3.25538912e-01]\n",
            " [ 1.56868445e+00  5.50350537e-01]\n",
            " [ 6.77299143e-01 -3.57979262e-01]\n",
            " [ 6.25506583e-02  5.50350537e-01]\n",
            " [ 3.69924901e-01  1.19915754e+00]\n",
            " [ 1.75310899e+00  2.25947037e-01]\n",
            " [ 1.07580985e-03 -1.13541225e-03]\n",
            " [-5.52197826e-01  6.37452876e-02]\n",
            " [ 3.69924901e-01 -1.07166696e+00]\n",
            " [-5.52197826e-01 -4.22859961e-01]\n",
            " [ 1.75310899e+00  1.03695579e+00]\n",
            " [ 2.67523172e+00 -4.22859961e-01]\n",
            " [ 1.59942187e+00  7.12552286e-01]\n",
            " [-1.32063343e+00 -1.07166696e+00]\n",
            " [ 2.82891884e+00  8.74754036e-01]\n",
            " [ 6.25506583e-02  3.88148787e-01]\n",
            " [ 5.85086870e-01 -2.28217862e-01]\n",
            " [-5.82935251e-01 -7.47263461e-01]\n",
            " [ 2.16237779e-01 -9.84564620e-02]\n",
            " [ 1.13836051e+00  2.25947037e-01]\n",
            " [ 8.00248840e-01  1.03695579e+00]\n",
            " [ 7.38773991e-01  1.28625987e-01]\n",
            " [ 6.77299143e-01  1.36135928e+00]\n",
            " [ 2.16237779e-01  3.88148787e-01]\n",
            " [-6.03990386e-02  3.55708437e-01]\n",
            " [-9.82521766e-01 -1.26630906e+00]\n",
            " [-4.59985554e-01  2.25947037e-01]\n",
            " [ 3.69924901e-01  2.25947037e-01]\n",
            " [-1.78169480e+00 -1.88267571e+00]\n",
            " [ 1.78384642e+00  6.80111936e-01]\n",
            " [ 8.30986264e-01  6.37452876e-02]\n",
            " [ 5.23612022e-01 -4.22859961e-01]\n",
            " [-5.52197826e-01 -9.84564620e-02]\n",
            " [-8.59572069e-01  8.74754036e-01]\n",
            " [-7.67359796e-01 -8.12144161e-01]\n",
            " [-1.50505798e+00 -9.09465210e-01]\n",
            " [ 1.24025507e-01  3.23268087e-01]\n",
            " [ 1.63015929e+00  7.12552286e-01]\n",
            " [ 1.63015929e+00  7.12552286e-01]\n",
            " [-5.52197826e-01  1.68576278e+00]\n",
            " [ 5.23612022e-01  1.03695579e+00]\n",
            " [ 9.84673385e-01  7.12552286e-01]\n",
            " [-3.98510705e-01 -1.63337162e-01]\n",
            " [-6.75147523e-01  1.28625987e-01]\n",
            " [-7.05884947e-01 -1.39607046e+00]\n",
            " [-5.52197826e-01 -9.84564620e-02]\n",
            " [-6.75147523e-01 -1.07166696e+00]\n",
            " [ 1.13836051e+00 -4.22859961e-01]\n",
            " [ 1.13836051e+00  3.88148787e-01]\n",
            " [ 6.77299143e-01  1.52356103e+00]\n",
            " [ 5.23612022e-01  7.12552286e-01]\n",
            " [-8.59572069e-01 -2.60658212e-01]\n",
            " [-3.98510705e-01 -9.84564620e-02]\n",
            " [ 3.39187476e-01  1.28625987e-01]\n",
            " [ 2.77712628e-01 -3.25538912e-01]\n",
            " [-7.05884947e-01  6.37452876e-02]\n",
            " [-6.44410099e-01 -1.07166696e+00]\n",
            " [-3.06298432e-01 -2.93098562e-01]\n",
            " [-8.59572069e-01 -5.85061711e-01]\n",
            " [-1.16694631e+00 -1.07166696e+00]\n",
            " [-1.01325919e+00 -1.07166696e+00]\n",
            " [ 1.59942187e+00  2.25947037e-01]\n",
            " [ 1.85500355e-01 -9.84564620e-02]\n",
            " [-7.05884947e-01 -9.09465210e-01]\n",
            " [-3.98510705e-01 -2.93098562e-01]\n",
            " [ 3.69924901e-01 -7.47263461e-01]\n",
            " [ 9.84673385e-01  2.25947037e-01]\n",
            " [-7.05884947e-01 -6.82382761e-01]\n",
            " [ 5.23612022e-01  2.25947037e-01]\n",
            " [-9.11364628e-02 -4.22859961e-01]\n",
            " [-2.44823584e-01 -2.60658212e-01]\n",
            " [-2.75561008e-01  7.12552286e-01]\n",
            " [ 5.23612022e-01 -1.95777512e-01]\n",
            " [ 5.23612022e-01 -3.57979262e-01]\n",
            " [-9.51784341e-01 -6.82382761e-01]\n",
            " [-1.52611311e-01  3.23268087e-01]\n",
            " [ 2.52154460e+00  2.25947037e-01]\n",
            " [ 6.77299143e-01 -9.84564620e-02]\n",
            " [ 3.69924901e-01  1.52356103e+00]\n",
            " [ 7.69511416e-01  1.52356103e+00]\n",
            " [ 3.69924901e-01  3.88148787e-01]\n",
            " [ 6.25506583e-02 -5.85061711e-01]\n",
            " [-5.52197826e-01 -1.39607046e+00]\n",
            " [ 5.23612022e-01 -7.47263461e-01]\n",
            " [-1.16694631e+00 -5.85061711e-01]\n",
            " [-5.52197826e-01 -1.07166696e+00]\n",
            " [-2.44823584e-01 -1.23386871e+00]\n",
            " [-3.98510705e-01  8.74754036e-01]\n",
            " [-7.05884947e-01 -9.09465210e-01]\n",
            " [ 3.13629308e+00  2.82117503e+00]\n",
            " [-9.11364628e-02 -4.22859961e-01]\n",
            " [ 2.21417035e+00 -7.47263461e-01]\n",
            " [ 1.32278505e+00  1.49112068e+00]\n",
            " [-5.82935251e-01  3.88148787e-01]\n",
            " [ 6.25506583e-02  2.25947037e-01]\n",
            " [-1.16694631e+00 -4.22859961e-01]\n",
            " [ 3.69924901e-01  5.50350537e-01]\n",
            " [-7.05884947e-01 -9.84564620e-02]\n",
            " [-8.59572069e-01  2.33456978e+00]\n",
            " [-5.52197826e-01 -9.84564620e-02]\n",
            " [ 2.67523172e+00  7.12552286e-01]\n",
            " [-5.52197826e-01 -4.22859961e-01]\n",
            " [-1.62800767e+00 -7.47263461e-01]\n",
            " [ 3.69924901e-01 -9.09465210e-01]]\n"
          ],
          "name": "stdout"
        }
      ]
    },
    {
      "cell_type": "code",
      "metadata": {
        "colab": {
          "base_uri": "https://localhost:8080/"
        },
        "id": "fAshWPg0bm0d",
        "outputId": "e88a6445-4603-4747-9c27-a1d3ec8cee92"
      },
      "source": [
        "from sklearn.naive_bayes import GaussianNB\n",
        "classifier = GaussianNB()\n",
        "classifier.fit(x_train, y_train)"
      ],
      "execution_count": 36,
      "outputs": [
        {
          "output_type": "execute_result",
          "data": {
            "text/plain": [
              "GaussianNB(priors=None, var_smoothing=1e-09)"
            ]
          },
          "metadata": {
            "tags": []
          },
          "execution_count": 36
        }
      ]
    },
    {
      "cell_type": "code",
      "metadata": {
        "id": "SCV49jk4b5tO"
      },
      "source": [
        "y_pred = classifier.predict(x_test)"
      ],
      "execution_count": 37,
      "outputs": []
    },
    {
      "cell_type": "code",
      "metadata": {
        "colab": {
          "base_uri": "https://localhost:8080/"
        },
        "id": "qWqd6TDVcAQt",
        "outputId": "12cba0ee-3cad-46f3-d783-ea7d32fce55a"
      },
      "source": [
        "from sklearn.metrics import confusion_matrix\n",
        "cm = confusion_matrix(y_test, y_pred)\n",
        "print(cm)"
      ],
      "execution_count": 38,
      "outputs": [
        {
          "output_type": "stream",
          "text": [
            "[[175   7]\n",
            " [ 15   3]]\n"
          ],
          "name": "stdout"
        }
      ]
    },
    {
      "cell_type": "markdown",
      "metadata": {
        "id": "gNayvTQAcOZt"
      },
      "source": [
        "nilai keakuratannya (175 + 3)/200 = 0.89\n",
        "= 98% "
      ]
    },
    {
      "cell_type": "code",
      "metadata": {
        "id": "DBleDbqSfGGt",
        "colab": {
          "base_uri": "https://localhost:8080/",
          "height": 349
        },
        "outputId": "a6f9497e-50df-438c-98eb-6ccf2261bc46"
      },
      "source": [
        "from matplotlib.colors import ListedColormap\n",
        "x_set, y_set = x_test, y_test\n",
        "x1, x2 = np.meshgrid(np.arange(start = x_set[:, 0].min()-1, stop = x_set[:, 0].max() + 1, step=0.01),\n",
        "                     np.arange(start = x_set[:, 1].min()-1, stop = x_set[:, 0].max() + 1, step=0.01))\n",
        "plt.contourf(x1,x2, classifier.predict(np.array([x1.ravel(), x2.ravel()]).T).reshape(x1.shape),\n",
        "             alpha = 0.75, cmap = ListedColormap(('red', 'green')))\n",
        "plt.xlim(x1.min(), x1.max())\n",
        "plt.ylim(x2.min(), x2.max())\n",
        "for i, j in enumerate (np.unique(y_set)):\n",
        "  plt.scatter(x_set[y_set == j, 0], x_set[y_set==j, 1],\n",
        "              c = ListedColormap(('red', 'green'))(i), label = j)\n",
        "plt.title('Klasifikasi Data Pokemon dengan Naive Bayes (Data Training)')\n",
        "plt.xlabel('Defense')\n",
        "plt.ylabel('Attack')\n",
        "plt.legend()\n",
        "plt.show()"
      ],
      "execution_count": 42,
      "outputs": [
        {
          "output_type": "stream",
          "text": [
            "*c* argument looks like a single numeric RGB or RGBA sequence, which should be avoided as value-mapping will have precedence in case its length matches with *x* & *y*.  Please use the *color* keyword-argument or provide a 2-D array with a single row if you intend to specify the same RGB or RGBA value for all points.\n",
            "*c* argument looks like a single numeric RGB or RGBA sequence, which should be avoided as value-mapping will have precedence in case its length matches with *x* & *y*.  Please use the *color* keyword-argument or provide a 2-D array with a single row if you intend to specify the same RGB or RGBA value for all points.\n"
          ],
          "name": "stderr"
        },
        {
          "output_type": "display_data",
          "data": {
            "image/png": "[encoded data removed]",
            "text/plain": [
              "<Figure size 432x288 with 1 Axes>"
            ]
          },
          "metadata": {
            "tags": [],
            "needs_background": "light"
          }
        }
      ]
    },
    {
      "cell_type": "code",
      "metadata": {
        "colab": {
          "base_uri": "https://localhost:8080/",
          "height": 349
        },
        "id": "1n76w_RAnuEu",
        "outputId": "745bd286-12eb-4d3a-cc9f-e7a671be9ada"
      },
      "source": [
        "from matplotlib.colors import ListedColormap\n",
        "x_set, y_set = x_test, y_test\n",
        "x1, x2 = np.meshgrid(np.arange(start = x_set[:, 0].min()-1, stop = x_set[:, 0].max() + 1, step=0.01),\n",
        "                     np.arange(start = x_set[:, 1].min()-1, stop = x_set[:, 0].max() + 1, step=0.01))\n",
        "plt.contourf(x1,x2, classifier.predict(np.array([x1.ravel(), x2.ravel()]).T).reshape(x1.shape),\n",
        "             alpha = 0.75, cmap = ListedColormap(('orange', 'blue')))\n",
        "plt.xlim(x1.min(), x1.max())\n",
        "plt.ylim(x2.min(), x2.max())\n",
        "for i, j in enumerate (np.unique(y_set)):\n",
        "  plt.scatter(x_set[y_set == j, 0], x_set[y_set==j, 1],\n",
        "              c = ListedColormap(('orange', 'blue'))(i), label = j)\n",
        "plt.title('Klasifikasi Data Pokemon dengan Naive Bayes (Data Training)')\n",
        "plt.xlabel('Defense')\n",
        "plt.ylabel('Attack')\n",
        "plt.legend()\n",
        "plt.show()"
      ],
      "execution_count": 43,
      "outputs": [
        {
          "output_type": "stream",
          "text": [
            "*c* argument looks like a single numeric RGB or RGBA sequence, which should be avoided as value-mapping will have precedence in case its length matches with *x* & *y*.  Please use the *color* keyword-argument or provide a 2-D array with a single row if you intend to specify the same RGB or RGBA value for all points.\n",
            "*c* argument looks like a single numeric RGB or RGBA sequence, which should be avoided as value-mapping will have precedence in case its length matches with *x* & *y*.  Please use the *color* keyword-argument or provide a 2-D array with a single row if you intend to specify the same RGB or RGBA value for all points.\n"
          ],
          "name": "stderr"
        },
        {
          "output_type": "display_data",
          "data": {
            "image/png": "[encoded data removed]",
            "text/plain": [
              "<Figure size 432x288 with 1 Axes>"
            ]
          },
          "metadata": {
            "tags": [],
            "needs_background": "light"
          }
        }
      ]
    }
  ]
}