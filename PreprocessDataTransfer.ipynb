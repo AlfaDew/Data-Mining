{
  "nbformat": 4,
  "nbformat_minor": 0,
  "metadata": {
    "colab": {
      "name": "PreprocessDataTransfer.ipynb",
      "provenance": []
    },
    "kernelspec": {
      "name": "python3",
      "display_name": "Python 3"
    },
    "language_info": {
      "name": "python"
    }
  },
  "cells": [
    {
      "cell_type": "code",
      "metadata": {
        "id": "TIumVw92Nc-a"
      },
      "source": [
        "import numpy as np\n",
        "import matplotlib.pyplot as plt\n",
        "import pandas as pd"
      ],
      "execution_count": 1,
      "outputs": []
    },
    {
      "cell_type": "markdown",
      "metadata": {
        "id": "v4UwCb1UPKcV"
      },
      "source": [
        "import Library yang diperlukan"
      ]
    },
    {
      "cell_type": "code",
      "metadata": {
        "id": "xgrlletDOEHh"
      },
      "source": [
        "dataset = pd.read_csv('DataTransferPlayer.csv')\n",
        "x = dataset.iloc[:, :-1].values\n",
        "y = dataset.iloc[:, -1].values"
      ],
      "execution_count": 3,
      "outputs": []
    },
    {
      "cell_type": "markdown",
      "metadata": {
        "id": "C4aGnUMvPR6p"
      },
      "source": [
        "untuk mengambil semua baris\n",
        "Untuk mengambil dan membaca dataset"
      ]
    },
    {
      "cell_type": "code",
      "metadata": {
        "colab": {
          "base_uri": "https://localhost:8080/"
        },
        "id": "MSMJLHIlOIZA",
        "outputId": "22fc3610-534d-4335-cf64-afcb018ad792"
      },
      "source": [
        "print(x)"
      ],
      "execution_count": 4,
      "outputs": [
        {
          "output_type": "stream",
          "text": [
            "[['ManchesterRed' 32000000.0 86.0]\n",
            " ['ManchesterBlue' 39000000.0 83.0]\n",
            " ['NorthLondon' nan 86.0]\n",
            " ['NorthLondon' 80000000.0 nan]\n",
            " ['ManchesterRed' 40000000.0 69.0]\n",
            " ['NorthLondon' 45000000.0 85.0]\n",
            " ['ManchesterBlue' 40000000.0 nan]\n",
            " ['ManchesterRed' 39000000.0 80.0]\n",
            " ['ManchesterBlue' 56000000.0 82.0]\n",
            " ['ManchesterRed' 80000000.0 85.0]]\n"
          ],
          "name": "stdout"
        }
      ]
    },
    {
      "cell_type": "code",
      "metadata": {
        "colab": {
          "base_uri": "https://localhost:8080/"
        },
        "id": "1U5NrudEOLWF",
        "outputId": "8bb57a69-b6a8-4f73-f319-80ee94565783"
      },
      "source": [
        "print(y)"
      ],
      "execution_count": 5,
      "outputs": [
        {
          "output_type": "stream",
          "text": [
            "['Yes' 'No' 'No' 'Yes' 'Yes' 'Yes' 'No' 'No' 'Yes' 'Yes']\n"
          ],
          "name": "stdout"
        }
      ]
    },
    {
      "cell_type": "code",
      "metadata": {
        "id": "cZN65EHBONkd"
      },
      "source": [
        "from sklearn.impute import SimpleImputer\n",
        "imputer = SimpleImputer(missing_values=np.nan, strategy='mean')\n",
        "imputer.fit(x[:, 1:3])\n",
        "x[:, 1:3] = imputer.transform(x[:, 1:3])"
      ],
      "execution_count": 6,
      "outputs": []
    },
    {
      "cell_type": "markdown",
      "metadata": {
        "id": "umDacwA3PcO8"
      },
      "source": [
        "library machine learning untuk mengisi data kosong dengan mean/modus/mean.(SimpleImputer)\n",
        ": , 1:3 = ambil semua baris, ambil komlom 1 sampai 3"
      ]
    },
    {
      "cell_type": "code",
      "metadata": {
        "colab": {
          "base_uri": "https://localhost:8080/"
        },
        "id": "pbd96zuOORwQ",
        "outputId": "a4769462-5faa-4c2e-c100-5c4a71b05354"
      },
      "source": [
        "print(x)"
      ],
      "execution_count": 7,
      "outputs": [
        {
          "output_type": "stream",
          "text": [
            "[['ManchesterRed' 32000000.0 86.0]\n",
            " ['ManchesterBlue' 39000000.0 83.0]\n",
            " ['NorthLondon' 50111111.11111111 86.0]\n",
            " ['NorthLondon' 80000000.0 82.0]\n",
            " ['ManchesterRed' 40000000.0 69.0]\n",
            " ['NorthLondon' 45000000.0 85.0]\n",
            " ['ManchesterBlue' 40000000.0 82.0]\n",
            " ['ManchesterRed' 39000000.0 80.0]\n",
            " ['ManchesterBlue' 56000000.0 82.0]\n",
            " ['ManchesterRed' 80000000.0 85.0]]\n"
          ],
          "name": "stdout"
        }
      ]
    },
    {
      "cell_type": "code",
      "metadata": {
        "id": "yEpcR3cVOUOg"
      },
      "source": [
        "from sklearn.compose import ColumnTransformer\n",
        "from sklearn.preprocessing import OneHotEncoder\n",
        "ct = ColumnTransformer(transformers=[('encoder', OneHotEncoder(), [0])], remainder='passthrough')\n",
        "x = np.array(ct.fit_transform(x))"
      ],
      "execution_count": 8,
      "outputs": []
    },
    {
      "cell_type": "markdown",
      "metadata": {
        "id": "mWvBEm65PhML"
      },
      "source": [
        "untuk data polinominal yang jenisnya lebih dari 2 harus diencoding dulu, dan akan dibuat menjadi matriks"
      ]
    },
    {
      "cell_type": "code",
      "metadata": {
        "colab": {
          "base_uri": "https://localhost:8080/"
        },
        "id": "krWh2BWCOXvo",
        "outputId": "0d8ef50f-fc93-49e2-ad06-a304b0cae883"
      },
      "source": [
        "print(x)"
      ],
      "execution_count": 9,
      "outputs": [
        {
          "output_type": "stream",
          "text": [
            "[[0.0 1.0 0.0 32000000.0 86.0]\n",
            " [1.0 0.0 0.0 39000000.0 83.0]\n",
            " [0.0 0.0 1.0 50111111.11111111 86.0]\n",
            " [0.0 0.0 1.0 80000000.0 82.0]\n",
            " [0.0 1.0 0.0 40000000.0 69.0]\n",
            " [0.0 0.0 1.0 45000000.0 85.0]\n",
            " [1.0 0.0 0.0 40000000.0 82.0]\n",
            " [0.0 1.0 0.0 39000000.0 80.0]\n",
            " [1.0 0.0 0.0 56000000.0 82.0]\n",
            " [0.0 1.0 0.0 80000000.0 85.0]]\n"
          ],
          "name": "stdout"
        }
      ]
    },
    {
      "cell_type": "code",
      "metadata": {
        "id": "QXeF-l7uOfgT"
      },
      "source": [
        "from sklearn.preprocessing import LabelEncoder\n",
        "le = LabelEncoder()\n",
        "y = le.fit_transform(y)"
      ],
      "execution_count": 10,
      "outputs": []
    },
    {
      "cell_type": "code",
      "metadata": {
        "colab": {
          "base_uri": "https://localhost:8080/"
        },
        "id": "boRX4f21Pp3Y",
        "outputId": "e66bd61f-58de-4605-91b8-91e552e000ab"
      },
      "source": [
        "print(y)"
      ],
      "execution_count": 21,
      "outputs": [
        {
          "output_type": "stream",
          "text": [
            "[1 0 0 1 1 1 0 0 1 1]\n"
          ],
          "name": "stdout"
        }
      ]
    },
    {
      "cell_type": "code",
      "metadata": {
        "id": "9dSXODZGOl37"
      },
      "source": [
        "from sklearn.model_selection import train_test_split\n",
        "x_train, x_test, y_train, y_test = train_test_split(x, y, test_size=0.2, random_state=1)"
      ],
      "execution_count": 12,
      "outputs": []
    },
    {
      "cell_type": "markdown",
      "metadata": {
        "id": "kQK74g0LP1Ji"
      },
      "source": [
        "input x, label y"
      ]
    },
    {
      "cell_type": "code",
      "metadata": {
        "colab": {
          "base_uri": "https://localhost:8080/"
        },
        "id": "NQVVtKj9OqSo",
        "outputId": "9b520528-0cd6-492d-d67f-c2b48cc2d52d"
      },
      "source": [
        "print(x_train)"
      ],
      "execution_count": 13,
      "outputs": [
        {
          "output_type": "stream",
          "text": [
            "[[1.0 0.0 0.0 40000000.0 82.0]\n",
            " [0.0 1.0 0.0 40000000.0 69.0]\n",
            " [0.0 1.0 0.0 32000000.0 86.0]\n",
            " [0.0 0.0 1.0 80000000.0 82.0]\n",
            " [1.0 0.0 0.0 39000000.0 83.0]\n",
            " [0.0 1.0 0.0 39000000.0 80.0]\n",
            " [1.0 0.0 0.0 56000000.0 82.0]\n",
            " [0.0 0.0 1.0 45000000.0 85.0]]\n"
          ],
          "name": "stdout"
        }
      ]
    },
    {
      "cell_type": "markdown",
      "metadata": {
        "id": "gkJ_C-C_P5YP"
      },
      "source": [
        "karena test size 0.2 maka data dikurang 2 menjadi 8"
      ]
    },
    {
      "cell_type": "code",
      "metadata": {
        "colab": {
          "base_uri": "https://localhost:8080/"
        },
        "id": "zEDa4FB4OvJ0",
        "outputId": "72b9faef-dd9d-437c-9d28-5da2213a9771"
      },
      "source": [
        "print(x_test)"
      ],
      "execution_count": 14,
      "outputs": [
        {
          "output_type": "stream",
          "text": [
            "[[0.0 0.0 1.0 50111111.11111111 86.0]\n",
            " [0.0 1.0 0.0 80000000.0 85.0]]\n"
          ],
          "name": "stdout"
        }
      ]
    },
    {
      "cell_type": "code",
      "metadata": {
        "colab": {
          "base_uri": "https://localhost:8080/"
        },
        "id": "DOChUg6zOygw",
        "outputId": "8bf333a2-e142-420b-e51b-21080c74fd6a"
      },
      "source": [
        "print(y_train)"
      ],
      "execution_count": 15,
      "outputs": [
        {
          "output_type": "stream",
          "text": [
            "[0 1 1 1 0 0 1 1]\n"
          ],
          "name": "stdout"
        }
      ]
    },
    {
      "cell_type": "code",
      "metadata": {
        "colab": {
          "base_uri": "https://localhost:8080/"
        },
        "id": "vFYA8ud6O034",
        "outputId": "4a54bc05-993a-4d5f-fcc1-7ce9b16f6fea"
      },
      "source": [
        "print(y_test)"
      ],
      "execution_count": 16,
      "outputs": [
        {
          "output_type": "stream",
          "text": [
            "[0 1]\n"
          ],
          "name": "stdout"
        }
      ]
    },
    {
      "cell_type": "code",
      "metadata": {
        "id": "jo1oS3FvO6Mr"
      },
      "source": [
        "from sklearn.preprocessing import StandardScaler\n",
        "sc = StandardScaler()\n",
        "x_train[:, 3:] = sc.fit_transform(x_train[:, 3:])\n",
        "x_test[:, 3:] = sc.transform(x_test[:, 3:])"
      ],
      "execution_count": 17,
      "outputs": []
    },
    {
      "cell_type": "markdown",
      "metadata": {
        "id": "qtmih7gMP-K5"
      },
      "source": [
        "3: adalah 3 sampai akhir (karena matriks ordo 3)"
      ]
    },
    {
      "cell_type": "code",
      "metadata": {
        "colab": {
          "base_uri": "https://localhost:8080/"
        },
        "id": "qdVVP3ZcO88k",
        "outputId": "91e165ec-fbd8-4b4f-c401-895a075f2814"
      },
      "source": [
        "print(x_train)"
      ],
      "execution_count": 18,
      "outputs": [
        {
          "output_type": "stream",
          "text": [
            "[[1.0 0.0 0.0 -0.44773030693227 0.1782030270768846]\n",
            " [0.0 1.0 0.0 -0.44773030693227 -2.4693848037796866]\n",
            " [0.0 1.0 0.0 -1.0095879470041382 0.9928454365712143]\n",
            " [0.0 0.0 1.0 2.3615578934270713 0.1782030270768846]\n",
            " [1.0 0.0 0.0 -0.5179625119412535 0.38186362945046703]\n",
            " [0.0 1.0 0.0 -0.5179625119412535 -0.2291181776702802]\n",
            " [1.0 0.0 0.0 0.6759849732114666 0.1782030270768846]\n",
            " [0.0 0.0 1.0 -0.09656928188735237 0.7891848341976319]]\n"
          ],
          "name": "stdout"
        }
      ]
    },
    {
      "cell_type": "code",
      "metadata": {
        "colab": {
          "base_uri": "https://localhost:8080/"
        },
        "id": "lob6dafuPGl_",
        "outputId": "87571f55-a799-4d99-fd15-aec4d3d80292"
      },
      "source": [
        "print(x_test)"
      ],
      "execution_count": 20,
      "outputs": [
        {
          "output_type": "stream",
          "text": [
            "[[0.0 0.0 1.0 0.26239532149189687 0.9928454365712143]\n",
            " [0.0 1.0 0.0 2.3615578934270713 0.7891848341976319]]\n"
          ],
          "name": "stdout"
        }
      ]
    }
  ]
}